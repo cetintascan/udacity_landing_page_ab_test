{
 "cells": [
  {
   "cell_type": "markdown",
   "id": "aee4337b-322f-430f-ab52-3179a9b026e2",
   "metadata": {},
   "source": [
    "## A/B Test Analysis: Old vs New Landing Page\n",
    "The goal is to check if the new landing page improved conversion rates compared to the old one\n",
    "by analyzing AB test data from Kaggle.\n",
    "\n",
    "After cleaning mismatched and duplicate entries, conversion rates are calculated, results are visualized, and two-proportion z-test is run. \n",
    "\n",
    "Also, 95% confidence intervals (of both control and treatment groups) are compared to assess if the conversion rate results are statistically significant.\n",
    "\n",
    "Finally, a power analysis (MDE) is included to confirm that the sample size is large enough to detect small differences in conversion rates.\n",
    "\n",
    "This analysis helps to decide whether the new page performs better or if more data is needed before rollout.\n"
   ]
  },
  {
   "cell_type": "code",
   "execution_count": 16,
   "id": "93a11ed6-060a-4dc2-b757-801ce6bb687d",
   "metadata": {},
   "outputs": [],
   "source": [
    "# 1. Import Libraries\n",
    "# Importing necessary libraries for data handling, visualization, and statistical testing.\n",
    "import pandas as pd\n",
    "import numpy as np\n",
    "import matplotlib.pyplot as plt\n",
    "import seaborn as sns\n",
    "from scipy import stats\n",
    "from statsmodels.stats.proportion import proportions_ztest, proportion_confint\n",
    "\n",
    "pd.set_option('display.float_format', lambda x: f'{x:.4f}')\n",
    "sns.set(style='whitegrid', context='notebook')"
   ]
  },
  {
   "cell_type": "code",
   "execution_count": 17,
   "id": "a728b15c-4908-4402-a102-cf9b01aa7c69",
   "metadata": {},
   "outputs": [
    {
     "name": "stdout",
     "output_type": "stream",
     "text": [
      "Data shape: (294478, 5)\n"
     ]
    },
    {
     "data": {
      "text/html": [
       "<div>\n",
       "<style scoped>\n",
       "    .dataframe tbody tr th:only-of-type {\n",
       "        vertical-align: middle;\n",
       "    }\n",
       "\n",
       "    .dataframe tbody tr th {\n",
       "        vertical-align: top;\n",
       "    }\n",
       "\n",
       "    .dataframe thead th {\n",
       "        text-align: right;\n",
       "    }\n",
       "</style>\n",
       "<table border=\"1\" class=\"dataframe\">\n",
       "  <thead>\n",
       "    <tr style=\"text-align: right;\">\n",
       "      <th></th>\n",
       "      <th>user_id</th>\n",
       "      <th>timestamp</th>\n",
       "      <th>group</th>\n",
       "      <th>landing_page</th>\n",
       "      <th>converted</th>\n",
       "    </tr>\n",
       "  </thead>\n",
       "  <tbody>\n",
       "    <tr>\n",
       "      <th>0</th>\n",
       "      <td>851104</td>\n",
       "      <td>2017-01-21 22:11:48.556739</td>\n",
       "      <td>control</td>\n",
       "      <td>old_page</td>\n",
       "      <td>0</td>\n",
       "    </tr>\n",
       "    <tr>\n",
       "      <th>1</th>\n",
       "      <td>804228</td>\n",
       "      <td>2017-01-12 08:01:45.159739</td>\n",
       "      <td>control</td>\n",
       "      <td>old_page</td>\n",
       "      <td>0</td>\n",
       "    </tr>\n",
       "    <tr>\n",
       "      <th>2</th>\n",
       "      <td>661590</td>\n",
       "      <td>2017-01-11 16:55:06.154213</td>\n",
       "      <td>treatment</td>\n",
       "      <td>new_page</td>\n",
       "      <td>0</td>\n",
       "    </tr>\n",
       "    <tr>\n",
       "      <th>3</th>\n",
       "      <td>853541</td>\n",
       "      <td>2017-01-08 18:28:03.143765</td>\n",
       "      <td>treatment</td>\n",
       "      <td>new_page</td>\n",
       "      <td>0</td>\n",
       "    </tr>\n",
       "    <tr>\n",
       "      <th>4</th>\n",
       "      <td>864975</td>\n",
       "      <td>2017-01-21 01:52:26.210827</td>\n",
       "      <td>control</td>\n",
       "      <td>old_page</td>\n",
       "      <td>1</td>\n",
       "    </tr>\n",
       "  </tbody>\n",
       "</table>\n",
       "</div>"
      ],
      "text/plain": [
       "   user_id                   timestamp      group landing_page  converted\n",
       "0   851104  2017-01-21 22:11:48.556739    control     old_page          0\n",
       "1   804228  2017-01-12 08:01:45.159739    control     old_page          0\n",
       "2   661590  2017-01-11 16:55:06.154213  treatment     new_page          0\n",
       "3   853541  2017-01-08 18:28:03.143765  treatment     new_page          0\n",
       "4   864975  2017-01-21 01:52:26.210827    control     old_page          1"
      ]
     },
     "execution_count": 17,
     "metadata": {},
     "output_type": "execute_result"
    }
   ],
   "source": [
    "# 2. Load Dataset\n",
    "# Loading the dataset and inspecting its basic structure.\n",
    "df = pd.read_csv('ab_data.csv')\n",
    "print(f\"Data shape: {df.shape}\")\n",
    "df.head()"
   ]
  },
  {
   "cell_type": "code",
   "execution_count": 18,
   "id": "e5eef482-7766-4d24-bc06-e4ca69bed62e",
   "metadata": {},
   "outputs": [
    {
     "name": "stdout",
     "output_type": "stream",
     "text": [
      "<class 'pandas.core.frame.DataFrame'>\n",
      "RangeIndex: 294478 entries, 0 to 294477\n",
      "Data columns (total 5 columns):\n",
      " #   Column        Non-Null Count   Dtype \n",
      "---  ------        --------------   ----- \n",
      " 0   user_id       294478 non-null  int64 \n",
      " 1   timestamp     294478 non-null  object\n",
      " 2   group         294478 non-null  object\n",
      " 3   landing_page  294478 non-null  object\n",
      " 4   converted     294478 non-null  int64 \n",
      "dtypes: int64(2), object(3)\n",
      "memory usage: 11.2+ MB\n",
      "None\n",
      "user_id         0\n",
      "timestamp       0\n",
      "group           0\n",
      "landing_page    0\n",
      "converted       0\n",
      "dtype: int64\n",
      "Unique groups: ['control' 'treatment']\n",
      "Unique landing pages: ['old_page' 'new_page']\n"
     ]
    }
   ],
   "source": [
    "# 3. Basic Data Checks\n",
    "# Checking for missing values, duplicates, and unique group and page combinations.\n",
    "print(df.info())\n",
    "print(df.isna().sum())\n",
    "print(\"Unique groups:\", df['group'].unique())\n",
    "print(\"Unique landing pages:\", df['landing_page'].unique())\n"
   ]
  },
  {
   "cell_type": "code",
   "execution_count": 19,
   "id": "852f58b3-e544-47c4-8d0f-f693664fc45f",
   "metadata": {},
   "outputs": [
    {
     "name": "stdout",
     "output_type": "stream",
     "text": [
      "After filtering mismatches: (290585, 5)\n",
      "After removing duplicates: (290584, 5)\n"
     ]
    }
   ],
   "source": [
    "# 4. Data Cleaning\n",
    "# Removing rows where 'group' and 'landing_page' don't match.\n",
    "clean_df = df.query('group == \"control\" and landing_page == \"old_page\" or group == \"treatment\" and landing_page == \"new_page\"')\n",
    "print(f\"After filtering mismatches: {clean_df.shape}\")\n",
    "\n",
    "# Removing duplicate users to keep one record per user.\n",
    "clean_df = clean_df.drop_duplicates(subset='user_id')\n",
    "print(f\"After removing duplicates: {clean_df.shape}\")"
   ]
  },
  {
   "cell_type": "code",
   "execution_count": 20,
   "id": "f0fd73fa-8a3b-4199-8f3e-1f12fc6c4b3f",
   "metadata": {},
   "outputs": [
    {
     "name": "stdout",
     "output_type": "stream",
     "text": [
      "\n",
      "Group distribution (proportion):\n",
      "group\n",
      "treatment   0.5001\n",
      "control     0.4999\n",
      "Name: proportion, dtype: float64\n"
     ]
    }
   ],
   "source": [
    "# 5. Check Balance Between Groups\n",
    "# Checking that both groups have roughly equal representation.\n",
    "group_counts = clean_df['group'].value_counts(normalize=True)\n",
    "print(\"\\nGroup distribution (proportion):\")\n",
    "print(group_counts)"
   ]
  },
  {
   "cell_type": "code",
   "execution_count": 21,
   "id": "b5618fdd-afc7-4e13-a381-3eb47cddb28d",
   "metadata": {},
   "outputs": [
    {
     "name": "stdout",
     "output_type": "stream",
     "text": [
      "\n",
      "Conversion summary:\n",
      "           conversion_rate       n\n",
      "group                             \n",
      "control             0.1204  145274\n",
      "treatment           0.1188  145310\n"
     ]
    }
   ],
   "source": [
    "# 6. Conversion Rate by Group\n",
    "# Calculating conversion rates for each group.\n",
    "conv_summary = clean_df.groupby('group')['converted'].agg(['mean','count'])\n",
    "conv_summary.rename(columns={'mean': 'conversion_rate', 'count': 'n'}, inplace=True)\n",
    "print(\"\\nConversion summary:\")\n",
    "print(conv_summary)"
   ]
  },
  {
   "cell_type": "code",
   "execution_count": 36,
   "id": "4cd51a7b-955d-4f8f-9cda-6fbb9b676f4b",
   "metadata": {},
   "outputs": [
    {
     "data": {
      "image/png": "[encoded data removed]",
      "text/plain": [
       "<Figure size 640x480 with 1 Axes>"
      ]
     },
     "metadata": {},
     "output_type": "display_data"
    }
   ],
   "source": [
    "# 7. Visualize Conversion Rates\n",
    "# Creating a simple bar plot of conversion rates.\n",
    "import os\n",
    "os.makedirs(\"visuals\", exist_ok=True)\n",
    "\n",
    "sns.barplot(x=conv_summary.index, y=conv_summary['conversion_rate'])\n",
    "plt.title('Conversion Rate by Group')\n",
    "plt.ylabel('Conversion Rate')\n",
    "plt.xlabel('Group')\n",
    "\n",
    "plt.tight_layout()\n",
    "plt.savefig(\"visuals/conversion_rate_chart.png\", dpi=300, bbox_inches=\"tight\")\n",
    "plt.show()\n"
   ]
  },
  {
   "cell_type": "code",
   "execution_count": 23,
   "id": "07b4cd7a-1d11-46f6-8ab6-9f73b7001fb8",
   "metadata": {},
   "outputs": [
    {
     "name": "stdout",
     "output_type": "stream",
     "text": [
      "Z-statistic: 1.311, p-value: 0.1899\n",
      "Result: No statistically significant difference.\n"
     ]
    }
   ],
   "source": [
    "# 8. Hypothesis Testing\n",
    "# Performing a two-proportion z-test to check if the difference in conversion rates is statistically significant\n",
    "convert_counts = clean_df.groupby('group')['converted'].sum().values\n",
    "nobs = clean_df.groupby('group')['converted'].count().values\n",
    "z_stat, p_val = proportions_ztest(count=convert_counts, nobs=nobs)\n",
    "print(f\"Z-statistic: {z_stat:.3f}, p-value: {p_val:.4f}\")\n",
    "\n",
    "alpha = 0.05\n",
    "if p_val < alpha:\n",
    "    print(\"Result: Statistically significant difference in conversion rates.\")\n",
    "else:\n",
    "    print(\"Result: No statistically significant difference.\")"
   ]
  },
  {
   "cell_type": "code",
   "execution_count": 24,
   "id": "4b1b9677-7b3b-41ba-b7f8-2a02cd294459",
   "metadata": {},
   "outputs": [
    {
     "name": "stdout",
     "output_type": "stream",
     "text": [
      "Control group 95% CI: (0.1187, 0.1221)\n",
      "Treatment group 95% CI: (0.1172, 0.1205)\n"
     ]
    }
   ],
   "source": [
    "# 9. Confidence Intervals for Conversion Rates\n",
    "# Adding 95% confidence intervals to understand uncertainty\n",
    "for group in conv_summary.index:\n",
    "    count = clean_df[clean_df['group']==group]['converted'].sum()\n",
    "    nobs = clean_df[clean_df['group']==group].shape[0]\n",
    "    low, high = proportion_confint(count, nobs, alpha=0.05, method='wilson')\n",
    "    print(f\"{group.capitalize()} group 95% CI: ({low:.4f}, {high:.4f})\")"
   ]
  },
  {
   "cell_type": "code",
   "execution_count": 32,
   "id": "3d142545-2835-43ca-85a3-ef756c8d64bd",
   "metadata": {},
   "outputs": [
    {
     "name": "stdout",
     "output_type": "stream",
     "text": [
      "Required sample size per group to detect a 1% lift: 17209\n",
      "Current sample per group: 145274\n"
     ]
    }
   ],
   "source": [
    "from statsmodels.stats.power import NormalIndPower\n",
    "from statsmodels.stats.proportion import proportion_effectsize\n",
    "\n",
    "# Baseline (control) conversion rate\n",
    "p1 = conv_summary.loc['control', 'conversion_rate']\n",
    "# Assume we want to detect a 1% absolute increase\n",
    "p2 = p1 + 0.01  \n",
    "\n",
    "# Calculate effect size and required sample\n",
    "effect_size = proportion_effectsize(p1, p2)\n",
    "analysis = NormalIndPower()\n",
    "sample_needed = analysis.solve_power(effect_size=effect_size, alpha=0.05, power=0.8)\n",
    "\n",
    "print(f\"Required sample size per group to detect a 1% lift: {sample_needed:.0f}\")\n",
    "print(f\"Current sample per group: {conv_summary['n'].iloc[0]:.0f}\")"
   ]
  },
  {
   "cell_type": "markdown",
   "id": "7d010a23-edc1-4050-87c8-673c251f4b57",
   "metadata": {},
   "source": [
    "### Results\n",
    "\n",
    "The control group converted at **12.04%**, and the new page (treatment) at **11.88%**.  \n",
    "The p-value is **0.19**, so the difference isn’t statistically significant.  \n",
    "The 95% confidence intervals overlap (Control: 0.1187–0.1221, Treatment: 0.1172–0.1205),  \n",
    "showing the small drop in performance could be random.  \n",
    "The sample size (~145K users per group) is well above the ~17K required to detect a 1% lift,  \n",
    "so the test had enough power to identify meaningful changes.\n",
    "\n",
    "### Interpretation and Recommendation\n",
    "\n",
    "The new page converted slightly lower than the old one, but the difference isn’t statistically significant.  \n",
    "There’s no evidence of improvement, keeping the current page as is and testing different change ideas would be beneficial."
   ]
  },
  {
   "cell_type": "code",
   "execution_count": null,
   "id": "267f7664-20e7-4f73-9e59-0798f02888f0",
   "metadata": {},
   "outputs": [],
   "source": []
  }
 ],
 "metadata": {
  "kernelspec": {
   "display_name": "Python [conda env:base] *",
   "language": "python",
   "name": "conda-base-py"
  },
  "language_info": {
   "codemirror_mode": {
    "name": "ipython",
    "version": 3
   },
   "file_extension": ".py",
   "mimetype": "text/x-python",
   "name": "python",
   "nbconvert_exporter": "python",
   "pygments_lexer": "ipython3",
   "version": "3.13.5"
  }
 },
 "nbformat": 4,
 "nbformat_minor": 5
}
